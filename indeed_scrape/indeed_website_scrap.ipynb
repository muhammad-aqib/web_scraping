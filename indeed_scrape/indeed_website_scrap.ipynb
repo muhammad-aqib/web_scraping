{
 "cells": [
  {
   "cell_type": "code",
   "execution_count": 55,
   "metadata": {},
   "outputs": [],
   "source": [
    "from bs4 import BeautifulSoup\n",
    "import requests\n",
    "import pandas as pd\n",
    "from datetime import datetime\n",
    "\n",
    "job_list = []"
   ]
  },
  {
   "cell_type": "code",
   "execution_count": 4,
   "metadata": {},
   "outputs": [],
   "source": [
    "def get_url(title, location):\n",
    "    template='https://pk.indeed.com/jobs?q={}&l={}'\n",
    "    return template.format(title.replace(' ','+'),location)"
   ]
  },
  {
   "cell_type": "code",
   "execution_count": 6,
   "metadata": {},
   "outputs": [],
   "source": [
    "indeed_url = get_url('software engineer','karachi')"
   ]
  },
  {
   "cell_type": "code",
   "execution_count": 10,
   "metadata": {},
   "outputs": [],
   "source": [
    "page_html = requests.get(indeed_url).content"
   ]
  },
  {
   "cell_type": "code",
   "execution_count": 11,
   "metadata": {},
   "outputs": [],
   "source": [
    "soup = BeautifulSoup(page_html,'lxml')"
   ]
  },
  {
   "cell_type": "code",
   "execution_count": 12,
   "metadata": {},
   "outputs": [],
   "source": [
    "cards_list = soup.find_all('div',{'class':'jobsearch-SerpJobCard'})"
   ]
  },
  {
   "cell_type": "markdown",
   "metadata": {},
   "source": [
    "### Prototype Single"
   ]
  },
  {
   "cell_type": "code",
   "execution_count": 15,
   "metadata": {},
   "outputs": [],
   "source": [
    "card = cards_list[0]"
   ]
  },
  {
   "cell_type": "code",
   "execution_count": 18,
   "metadata": {},
   "outputs": [],
   "source": [
    "job_title = card.h2.a.get('title')"
   ]
  },
  {
   "cell_type": "code",
   "execution_count": 21,
   "metadata": {},
   "outputs": [],
   "source": [
    "company = card.find('span',{'class':'company'}).text.strip()"
   ]
  },
  {
   "cell_type": "code",
   "execution_count": 25,
   "metadata": {},
   "outputs": [],
   "source": [
    "location = card.find('span', {'class':'location'}).text.strip()"
   ]
  },
  {
   "cell_type": "code",
   "execution_count": 33,
   "metadata": {},
   "outputs": [],
   "source": [
    "job_summary = card.find('div',{'class':'summary'}).text.strip().replace('\\n',' ')"
   ]
  },
  {
   "cell_type": "code",
   "execution_count": 36,
   "metadata": {},
   "outputs": [],
   "source": [
    "post_date = card.find('span',{'class':'date'}).text.strip()"
   ]
  },
  {
   "cell_type": "code",
   "execution_count": 39,
   "metadata": {},
   "outputs": [],
   "source": [
    "today = datetime.today().strftime('%Y-%m-%d')"
   ]
  },
  {
   "cell_type": "markdown",
   "metadata": {},
   "source": [
    "### Iteration"
   ]
  },
  {
   "cell_type": "code",
   "execution_count": 45,
   "metadata": {},
   "outputs": [],
   "source": [
    "next_button_url = 'https://pk.indeed.com'+soup.find('a',{'aria-label':'Next'}).get('href')"
   ]
  },
  {
   "cell_type": "markdown",
   "metadata": {},
   "source": [
    "### Complete Code"
   ]
  },
  {
   "cell_type": "code",
   "execution_count": 57,
   "metadata": {},
   "outputs": [
    {
     "name": "stdout",
     "output_type": "stream",
     "text": [
      "Software Engineer\n",
      "Software Engineer - Level II\n",
      "Industry Presales Engineer\n",
      "Senior Software Engineer\n",
      "Support Engineer (Software)\n",
      "Full Stack Software Engineer\n",
      "Software Quality Assurance Engineer\n",
      "Software Quality Assurance Engineer\n",
      "IT Support Engineer\n",
      "Mechatronics/Maintenance Engineer (Karachi)\n",
      "SQA Engineer\n",
      "Senior Software Engineer\n",
      "Software Support Engineer\n",
      "Software Engineer - PHP\n",
      "SQA Engineer\n",
      "SQA Engineer\n",
      "Senior Software Engineer\n",
      "Software Support Engineer\n",
      "Software Engineer - PHP\n",
      "SQA Engineer\n",
      "Electrical Engineer\n",
      "Software Engineer (PHP)\n",
      "Junior QA Engineer\n",
      "Network Support Engineer\n",
      "Senior Software Engineer\n",
      "Senior Software Engineer\n",
      "Sr. Software Engineer\n",
      "Software Quality Assurance Engineer\n",
      "Software Engineer – .NET\n",
      "System Support Engineer\n",
      "Software Engineer (Java)\n",
      "Senior Software Engineer\n",
      "SQA Engineer Intern\n",
      "Software Engineer - Backend\n",
      "System Support Engineers\n",
      "IT Support Engineer\n",
      "Software Quality Assurance Engineer ( SQA )\n",
      "Software Engineer\n",
      "Software Engineer\n",
      "Business Analyst for software projects\n",
      "Network & System Engineer\n",
      "Trainee Civil Engineer\n",
      "Software Engineer\n",
      "QUALITY ASSURANCE ENGINEER\n",
      "Software Engineer (.Net)\n",
      "Software Development Engineer\n",
      "C# .Net /Software Engineer\n",
      "Software Engineer – ASP.NET\n",
      "Junior and Senior Software Engineers\n",
      "SQA - Manual & Automation Engineer\n",
      "Software Engineer\n",
      "Software Engineer/Architect (Core)\n",
      "Software Engineer - QA\n",
      ".Net Developer\n",
      "Associate Data Engineer\n",
      "Software Engineers\n",
      "Staff Software Engineer II\n",
      "Senior Software Engineer (PHP)\n",
      "Software Engineer - (PHP)\n",
      "Software Engineer-PHP\n",
      "Academic Writer - Computer Science\n",
      "SOFTWARE QUALITY ASSURANCE ENGINEERS\n",
      "Senior Software Engineer [Remote]\n",
      "SOFTWARE ENGINEER\n",
      "Quality Assurance Engineer\n",
      "Machine Learning Engineer Intern - PK-KAR\n",
      "Test Engineer\n",
      "Software Engineer\n",
      "Software Engineer (PHP)\n",
      "Construction Manager\n",
      "Technical Research Analyst\n",
      "SQA Engineer\n",
      "SDET - Software Development Engineer in Test\n",
      "C++ Software Engineer\n",
      "QA Engineer\n",
      "Project Sales Engineer -cum- AutoCAD Draftsman\n",
      "Technical Support Engineer\n",
      "Sr. Software Quality Assurance Engineer\n",
      "Systems Administrator\n",
      "Senior Software Engineer\n",
      "PS Technical Consultant\n",
      "Senior Software Engineer / Technical Lead\n",
      "Software Engineer (MVC.Net - Angular 7) Remote Job\n",
      "SQA Engineer\n",
      "Web Content Specialist\n",
      "ETL Engineer\n",
      "Software Developers\n",
      "Node.js Software Engineers\n",
      "Software Engineer I\n",
      "AutoCAD Draftsman\n",
      "C++ Software Engineer (Khi)\n",
      "Software Engineer (React JS)\n",
      "SIEM Engineer\n",
      "Data Scientist / ML Engineer/Tensorflow developer\n",
      "Senior SQA & Support Engineer\n",
      "Full Stack Developer\n",
      "Telephony Engineer\n",
      "Senior Software Engineer - JS\n",
      "Intern PHP Developer\n",
      "Software Engineer\n",
      "Senior Software Engineer\n",
      "Software Engineer / Senior Software Engineer\n",
      "Senior Software Engineers\n",
      "Associate IT\n",
      "Software Engineer (Night Shift)\n",
      "Senior Software Engineer\n",
      "Senior Software Engineer | Principal Software Engineer [ C++| C# ]\n",
      "Software Developer\n",
      "Full Stack Developer\n",
      "AI Firmware Engineer\n",
      "Senior Network Engineer\n",
      "QUALITY ASSURANCE ENGINEERS\n",
      "Senior Network Engineer\n",
      "Compiler Engineer/Developer\n",
      "Dot Net Developer\n",
      "Senior Software Engineer/Software Engineer (PHP Laravel /Lumen)\n",
      "API Integration Engineer\n",
      "Python Big Data Engineer II\n",
      "CAD Design Engineer\n",
      "Principal Software Engineer [ Java Full Stack ]\n",
      "Assistant Manager – Project Management\n",
      "JavaScript Engineer\n",
      "Information Security Engineer\n",
      "QA For Mobile Apps\n",
      "Senior Software Engineer\n",
      "Software Test Automation Engineer\n",
      "Senior Software Engineer (Backend)\n",
      "Senior SQA Engineer\n",
      "Python/Django Developer x1\n",
      "Senior Software Engineer\n",
      "HR Executive (Female)\n",
      "QA engineer (Manual)\n",
      "Full Stack Engineer\n",
      "Laravel Developer\n",
      "Software Engineer – .Backend (NET,/MVC, Core)\n",
      "Team Lead Software Support\n",
      "Quality Assurance Engineer (Multiple opportunities)\n",
      "Senior Software Engineer Python\n",
      "Lead Software Engineer (.NET)\n",
      "Senior Software Engineer .Net\n",
      "QA Automation Engineer\n",
      "Senior Software Engineer [ .Net, React.Js / Angular.Js]\n",
      "Mechanical / Electrical Designer (Diploma Holder)\n",
      "Pre / Post Sales Engineer\n",
      "PHP Laravel\n",
      "Sr. Backend Software Engineer\n",
      "Junior Software Engineer - Backend\n",
      "Software Engineer\n",
      "PHP/Developer\n",
      "Team Lead Installation & Execution\n",
      "Senior SQA Engineer\n",
      "DevOps Engineer\n",
      "Server Architect/Engineer\n",
      "Sr. QA Engineer (Automation)\n",
      "Software Developer\n",
      "DevOps Engineer\n",
      "Backend Engineer For Mobile Apps\n",
      "Software Architect\n",
      "Sr. Automation Tester/Engineer\n",
      "Developer Support Engineer\n",
      "AWS Cloud Engineer\n",
      "Senior ReactJS Developer\n",
      "Software Engineer - Platform\n",
      "Azure Cloud Engineer\n",
      "Software Engineer\n",
      "Senior Network Engineer\n",
      "SOFTWARE DEVELOPMENT MANAGER.\n",
      "DevOps Engineer\n",
      "QA Engineer\n",
      "Lead Software Engineer (JavaScript)\n",
      "Lead Software Engineer – JavaScript (Multiple opportunities)\n",
      "Senior Linux Engineer - Mellanox Technologies\n",
      "Sprinkler System Designer\n",
      "iOS Developer\n",
      "Manager Fleet and Workshop\n",
      "Software Development Engineer in Test\n",
      "IT Engineer\n",
      "Electrician & Electrical Engineer\n",
      "Service Desk Support Engineer\n",
      "Application Security Engineer\n",
      "Software Engineer - Frontend\n",
      "Senior Software Engineer (PHP)\n",
      "Mechanical/Electrical REVIT Designer/Engineer\n",
      "Unity 3D Virtual Tour Developer\n",
      "Front-end Designer & Developer (React JS)\n",
      "Network Program Architect\n",
      "iOS developer\n",
      "Business Reporting\n",
      "iOS Developer\n",
      "Front-End Developer\n",
      "Sales Executive\n",
      "Assistant Manager Data Annotator\n",
      "SQA Analyst\n",
      "Graphic Designer UI/UX\n",
      "iOS Developer\n",
      "Sr. Frontend Engineer\n",
      "Sr. Laravel Developer\n",
      "Technical Consultant\n",
      "Embedded QA Engineer\n",
      "Senior Software Engineer - Backend\n",
      "UI/UX Designer\n",
      "Software Engineer II (Frontend)\n",
      "Senior Android Developer\n",
      "Senior QA Engineer\n",
      "Senior Node.js Developer\n",
      "Senior Software Engineer (iOS + Android)\n",
      "Principal Software Engineer (.Net)\n",
      "Senior Software Engineer (PHP)\n",
      "QA Tech Lead\n",
      "business development executive,Mern-stack,content writers\n",
      "Dot Net Developer\n",
      "Software Engineer - Backend\n",
      "Senior Software Engineer (React JS)\n",
      "Technical Program Manager\n",
      "Senior Lead PHP Developer\n",
      "UX/UI Designer\n",
      "Senior Technical Lead\n",
      "Web Developer\n",
      "Senior Project Manager/Project Manager\n",
      "Lead Mobile Developer\n",
      "Cloud Network Engineer\n",
      "DevOps Engineer\n",
      "Senior PHP (Laravel) Developer\n",
      "LiveOps Engineer\n",
      "Software Developer\n",
      "Salesforce Consultant, Software Engineer/Developer\n",
      "URGENT HIRING Angular Developer\n",
      "Senior Software Engineer - Frontend\n",
      "Senior Back-End Developer\n",
      "Senior Technical Writer\n",
      "Senior Support Engineer\n",
      "Female HR Generalist\n",
      "Project Analyst\n",
      "Android developer\n",
      "Senior iOS Developer\n",
      "Senior Software Developer\n",
      "Principal Software Engineer\n",
      "Senior iOS Developer\n",
      "Senior Android Developer\n",
      "UI/UX (React JS) Developer\n",
      "Lead SQA Analyst\n",
      "Senior Software Developer - Lead\n",
      "Senior/ Staff DevOps Engineer (SecOps)\n",
      "Senior Python Developer\n",
      "Senior SQA Analyst - Team Lead\n"
     ]
    }
   ],
   "source": [
    "from bs4 import BeautifulSoup\n",
    "import requests\n",
    "import pandas\n",
    "from datetime import datetime\n",
    "\n",
    "job_list = []\n",
    "\n",
    "def get_url(title, location):\n",
    "    template='https://pk.indeed.com/jobs?q={}&l={}'\n",
    "    return template.format(title.replace(' ','+'),location)\n",
    "\n",
    "url = get_url('software engineer','karachi')\n",
    "\n",
    "\n",
    "while True:\n",
    "    page_html = requests.get(url).content\n",
    "    soup = BeautifulSoup(page_html,'lxml')\n",
    "    cards_list = soup.find_all('div',{'class':'jobsearch-SerpJobCard'})\n",
    "    \n",
    "    for card in cards_list:\n",
    "        job_title = card.h2.a.get('title').strip() if card.h2.a.get('title') else ''\n",
    "        company = card.find('span',{'class':'company'}).text.strip() if card.find('span',{'class':'company'}) else ''\n",
    "        location = card.find('span', {'class':'location'}).text.strip() if card.find('span', {'class':'location'}) else ''\n",
    "        job_summary = card.find('div',{'class':'summary'}).text.strip().replace('\\n',' ') if card.find('div',{'class':'summary'}) else ''\n",
    "        post_date = card.find('span',{'class':'date'}).text.strip() if card.find('span',{'class':'date'}) else ''\n",
    "        today = datetime.today().strftime('%Y-%m-%d')\n",
    "        \n",
    "        job_list.append((job_title,company,location,job_summary,post_date,today))\n",
    "        print(job_list[-1][0])\n",
    "    \n",
    "    try:\n",
    "        url = 'https://pk.indeed.com'+soup.find('a',{'aria-label':'Next'}).get('href')\n",
    "    except AttributeError:\n",
    "        break\n",
    "\n",
    "        \n",
    "item_cols = ['job_title','company','location','job_summary','post_date','today']\n",
    "items_df = pd.DataFrame(job_list, columns=item_cols)\n",
    "items_df.to_csv('indeed_jobs.csv', index=False)\n",
    "\n",
    "        \n",
    "        "
   ]
  },
  {
   "cell_type": "code",
   "execution_count": 58,
   "metadata": {},
   "outputs": [
    {
     "data": {
      "text/plain": [
       "245"
      ]
     },
     "execution_count": 58,
     "metadata": {},
     "output_type": "execute_result"
    }
   ],
   "source": [
    "len(job_list)"
   ]
  },
  {
   "cell_type": "code",
   "execution_count": null,
   "metadata": {},
   "outputs": [],
   "source": []
  }
 ],
 "metadata": {
  "kernelspec": {
   "display_name": "Python 3",
   "language": "python",
   "name": "python3"
  },
  "language_info": {
   "codemirror_mode": {
    "name": "ipython",
    "version": 3
   },
   "file_extension": ".py",
   "mimetype": "text/x-python",
   "name": "python",
   "nbconvert_exporter": "python",
   "pygments_lexer": "ipython3",
   "version": "3.8.5"
  }
 },
 "nbformat": 4,
 "nbformat_minor": 4
}
